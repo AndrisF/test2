{
 "cells": [
  {
   "cell_type": "code",
   "execution_count": 41,
   "metadata": {},
   "outputs": [
    {
     "data": {
      "application/vnd.jupyter.widget-view+json": {
       "model_id": "0c832486738f4ea9abe98378c7c450d2",
       "version_major": 2,
       "version_minor": 0
      },
      "text/plain": [
       "FileUpload(value=(), accept='.h5', description='Upload', multiple=True)"
      ]
     },
     "metadata": {},
     "output_type": "display_data"
    }
   ],
   "source": [
    "from ipywidgets import FileUpload\n",
    "from IPython.display import display\n",
    "upload = FileUpload(accept='.h5', multiple=True)\n",
    "display(upload)"
   ]
  },
  {
   "cell_type": "code",
   "execution_count": 44,
   "metadata": {},
   "outputs": [
    {
     "data": {
      "application/vnd.jupyter.widget-view+json": {
       "model_id": "07d037e6771f433bafe0952affd13dc5",
       "version_major": 2,
       "version_minor": 0
      },
      "text/plain": [
       "FileUpload(value=(), accept='.jpg', description='Upload', multiple=True)"
      ]
     },
     "metadata": {},
     "output_type": "display_data"
    }
   ],
   "source": [
    "upload2 = FileUpload(accept='.jpg', multiple=True)\n",
    "display(upload2)"
   ]
  },
  {
   "cell_type": "code",
   "execution_count": 51,
   "metadata": {},
   "outputs": [
    {
     "data": {
      "application/vnd.jupyter.widget-view+json": {
       "model_id": "e979c6114d0a40cf984c4ebd85164bad",
       "version_major": 2,
       "version_minor": 0
      },
      "text/plain": [
       "Button(description='Click me!', style=ButtonStyle())"
      ]
     },
     "metadata": {},
     "output_type": "display_data"
    },
    {
     "data": {
      "application/vnd.jupyter.widget-view+json": {
       "model_id": "f2fe0c7099604d47a355f5cf5531fb7b",
       "version_major": 2,
       "version_minor": 0
      },
      "text/plain": [
       "  0%|          | 0/1000 [00:00<?, ?it/s]"
      ]
     },
     "metadata": {},
     "output_type": "display_data"
    }
   ],
   "source": [
    "import os\n",
    "import keras\n",
    "import tensorflow as tf\n",
    "from keras.applications import inception_v3 as inc_net\n",
    "from keras.preprocessing import image\n",
    "from keras.applications.imagenet_utils import decode_predictions\n",
    "import matplotlib.pyplot as plt\n",
    "import numpy as np\n",
    "from PIL import Image, ImageOps\n",
    "from lime import lime_image \n",
    "from skimage.segmentation import mark_boundaries\n",
    "import ipywidgets as widgets\n",
    "from IPython.display import display \n",
    "from IPython.utils import io\n",
    "import sys\n",
    "\n",
    "with io.capture_output() as captured:\n",
    "    print('Hello, world!')\n",
    "\n",
    "notebook_dir = os.path.dirname(os.path.realpath('__file__'))\n",
    "\n",
    "# List all files in the directory\n",
    "files = os.listdir(notebook_dir)\n",
    "\n",
    "# Filter out directories and get only filenames\n",
    "model = tf.keras.models.load_model(upload.value[0]['name'])\n",
    "image_filename = upload2.value[0]['name']\n",
    "\n",
    "temp= None\n",
    "mask= None\n",
    "\n",
    "def preprocess_image(ip):\n",
    "\t# swap color channels, preprocess the image, and add in a batch\n",
    "\t# dimension\n",
    "\timage = Image.open(ip).convert(\"RGB\")\n",
    "\tdata = np.ndarray(shape=(1, 224, 224, 3), dtype=np.float32)\n",
    "\tsize = (224, 224)\n",
    "\timage = ImageOps.fit(image, size, Image.Resampling.LANCZOS)\n",
    "\timage_array = np.asarray(image)\n",
    "\tnormalized_image_array = (image_array.astype(np.float32) / 127.5) - 1\n",
    "\tdata[0] = normalized_image_array\n",
    "\treturn data\n",
    " \n",
    "def predict_image_class(image_path):\n",
    "    # Preprocess the image\n",
    "    prediction = model.predict(preprocess_image(image_path))\n",
    "    index = np.argmax(prediction)\n",
    "    confidence_score = prediction[0][index]\n",
    "    return confidence_score, index\n",
    "\n",
    "def create_lime(b):\n",
    "    images = preprocess_image(image_filename)\n",
    "    x,y = predict_image_class(image_filename)\n",
    "    if y == 0:\n",
    "        print(\"Bild als Sushi erkannt\")\n",
    "    else:\n",
    "         print(\"Bild als Waffel erkannt\")\n",
    "    explainer = lime_image.LimeImageExplainer()\n",
    "    explanation = explainer.explain_instance(images[0].astype('double'), model.predict, top_labels=1, hide_color=0, num_samples=1000)\n",
    "    temp, mask = explanation.get_image_and_mask(explanation.top_labels[0], positive_only=True, num_features=5, hide_rest=True)\n",
    "    return temp, mask\n",
    "\n",
    "def update_values(b):\n",
    "    global x, y\n",
    "    x, y = create_lime(b)\n",
    "\n",
    "def display_lime(b):\n",
    "     global x,y\n",
    "     plt.imshow(mark_boundaries(x / 2 + 0.5, y))\n",
    "\n",
    "# Define your function\n",
    "\n",
    "# Create a button widget\n",
    "button = widgets.Button(description=\"Click me!\")\n",
    "\n",
    "# Define a function to handle button click event\n",
    "def on_button_click(b):\n",
    "    with open('nul', 'w') as null:\n",
    "        sys.stdout = null  # Redirect stdout to null\n",
    "        update_values(b)\n",
    "        sys.stdout = sys.__stdout__  # Restore stdout\n",
    "\n",
    "# Connect the function to the button click event\n",
    "button.on_click(on_button_click)\n",
    "# Display the button\n",
    "display(button)"
   ]
  },
  {
   "cell_type": "code",
   "execution_count": null,
   "metadata": {},
   "outputs": [],
   "source": [
    "button2 = widgets.Button(description=\"Click me!\")\n",
    "button2.on_click(display_lime)\n",
    "# Display the button\n",
    "display(button2)"
   ]
  },
  {
   "cell_type": "code",
   "execution_count": null,
   "metadata": {},
   "outputs": [],
   "source": []
  },
  {
   "cell_type": "code",
   "execution_count": null,
   "metadata": {},
   "outputs": [],
   "source": []
  },
  {
   "cell_type": "code",
   "execution_count": null,
   "metadata": {},
   "outputs": [],
   "source": []
  },
  {
   "cell_type": "code",
   "execution_count": null,
   "metadata": {},
   "outputs": [],
   "source": []
  }
 ],
 "metadata": {
  "kernelspec": {
   "display_name": "base",
   "language": "python",
   "name": "python3"
  },
  "language_info": {
   "codemirror_mode": {
    "name": "ipython",
    "version": 3
   },
   "file_extension": ".py",
   "mimetype": "text/x-python",
   "name": "python",
   "nbconvert_exporter": "python",
   "pygments_lexer": "ipython3",
   "version": "3.11.5"
  }
 },
 "nbformat": 4,
 "nbformat_minor": 2
}
